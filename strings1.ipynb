{
 "cells": [
  {
   "cell_type": "code",
   "execution_count": 3,
   "id": "96d67537-c796-4a3b-9ca0-8fe4d8e58850",
   "metadata": {},
   "outputs": [
    {
     "name": "stdout",
     "output_type": "stream",
     "text": [
      "india won\n"
     ]
    }
   ],
   "source": [
    "#concatination strings\n",
    "s1=\"india\"\n",
    "s2=\"won\"\n",
    "result=s1+\" \"+s2\n",
    "print(result)"
   ]
  },
  {
   "cell_type": "code",
   "execution_count": 7,
   "id": "28f05e85-cdc8-478d-ab58-c71af296fd0a",
   "metadata": {},
   "outputs": [
    {
     "name": "stdout",
     "output_type": "stream",
     "text": [
      "10\n"
     ]
    }
   ],
   "source": [
    "#search/replace\n",
    "str=\"india won the match by 5 wickets\"\n",
    "print(str.find(\"the\"))\n"
   ]
  },
  {
   "cell_type": "code",
   "execution_count": 9,
   "id": "ba3dc31b-637f-47b3-86de-f705ac8e77d9",
   "metadata": {},
   "outputs": [
    {
     "name": "stdout",
     "output_type": "stream",
     "text": [
      "23\n",
      "india won the match by 9 wickets\n",
      "india won the match by 5 runs today\n"
     ]
    }
   ],
   "source": [
    "#search/replace\n",
    "str=\"india won the match by 5 wickets\"\n",
    "print(str.find(\"5\"))\n",
    "print(str.replace(\"5\",\"9\"))\n",
    "print(str.replace(\"wickets\",\"runs today\"))"
   ]
  },
  {
   "cell_type": "code",
   "execution_count": 15,
   "id": "24bf6c93-d269-4b8c-9430-13a919fe8204",
   "metadata": {},
   "outputs": [
    {
     "name": "stdout",
     "output_type": "stream",
     "text": [
      "True\n",
      "False\n",
      "False\n"
     ]
    }
   ],
   "source": [
    "#functions()\n",
    "print('444'.isdigit())\n",
    "print('44.4'.isdigit())\n",
    "print('jamesbond!'.isalpha())\n"
   ]
  },
  {
   "cell_type": "code",
   "execution_count": 27,
   "id": "6091703d-d74e-4edd-b94a-8df102de2668",
   "metadata": {},
   "outputs": [
    {
     "name": "stdout",
     "output_type": "stream",
     "text": [
      "['alpha', 'beta', 'gamma']\n",
      "alpha-beta-gamma\n",
      "ALPHA,BETA,GAMMA\n",
      "alpha,beta,gamma\n"
     ]
    }
   ],
   "source": [
    "#split ,upper,lower and join\n",
    "str=\"alpha,beta,gamma\"\n",
    "parts=str.split(\",\")\n",
    "print(parts)\n",
    "joined=\"-\".join(parts)\n",
    "print(joined)\n",
    "bindu=str.upper()\n",
    "print(bindu)\n",
    "bindu=str.lower()\n",
    "print(bindu)"
   ]
  },
  {
   "cell_type": "code",
   "execution_count": 29,
   "id": "9be4b1ef-cebe-4e77-8fc5-f33a0eeb2c97",
   "metadata": {},
   "outputs": [
    {
     "name": "stdout",
     "output_type": "stream",
     "text": [
      "**india***\n"
     ]
    }
   ],
   "source": [
    "#center function\n",
    "str='india'\n",
    "print(str.center(10,'*'))"
   ]
  },
  {
   "cell_type": "code",
   "execution_count": 31,
   "id": "faeffaf5-7fac-4a7c-b2d4-5566a63b8d7b",
   "metadata": {},
   "outputs": [
    {
     "name": "stdout",
     "output_type": "stream",
     "text": [
      "7\n"
     ]
    }
   ],
   "source": [
    "#count(str,beg,end)\n",
    "str='he'\n",
    "text='hellohellohellohellohellohellohello'\n",
    "print(text.count(str,0,len(text)))"
   ]
  },
  {
   "cell_type": "markdown",
   "id": "72916ed9-2541-4972-860b-09cc508de0bf",
   "metadata": {},
   "source": []
  },
  {
   "cell_type": "code",
   "execution_count": 35,
   "id": "e4b0de8e-1a68-4b91-a103-93cec644604b",
   "metadata": {},
   "outputs": [
    {
     "name": "stdout",
     "output_type": "stream",
     "text": [
      "True\n",
      "False\n"
     ]
    }
   ],
   "source": [
    "#startswith endswith.....searching\n",
    "str1=\" hima is humans best frnd\"\n",
    "str2='the climate is very cool'\n",
    "print(str1.endswith('frnd',0,len(str1)))\n",
    "print(str1.startswith('end',0,len(str1)))\n"
   ]
  },
  {
   "cell_type": "code",
   "execution_count": 43,
   "id": "1788cb48-da47-4534-8b80-7d45ee78b652",
   "metadata": {},
   "outputs": [
    {
     "name": "stdout",
     "output_type": "stream",
     "text": [
      "12\n",
      "18\n"
     ]
    }
   ],
   "source": [
    "text=\"how was the day today?\"\n",
    "print(text.find('day',0,len(text)))\n",
    "print(text.rfind('day'))"
   ]
  },
  {
   "cell_type": "code",
   "execution_count": 45,
   "id": "fce2ff08-a05c-42ea-ae7f-ff050a0f620f",
   "metadata": {},
   "outputs": [
    {
     "name": "stdout",
     "output_type": "stream",
     "text": [
      "False\n",
      "True\n",
      "False\n",
      "False\n"
     ]
    }
   ],
   "source": [
    "#justifications\n",
    "text='himabindu29'\n",
    "print(text.isalpha())\n",
    "print(text.isalnum())\n",
    "print(text.isdigit())\n",
    "print(text.isspace())\n",
    "\n",
    "\n",
    "\n"
   ]
  },
  {
   "cell_type": "code",
   "execution_count": 53,
   "id": "7e38fc10-8931-44eb-8c51-54f1d3b156dc",
   "metadata": {},
   "outputs": [
    {
     "name": "stdout",
     "output_type": "stream",
     "text": [
      "%%%%%%%%%%%%%%%%%%hi\n",
      "hi%%%%%%%%%%%%%%%%%%\n"
     ]
    }
   ],
   "source": [
    "# left just right just\n",
    "str='hi'\n",
    "print(str.rjust(20,'%'))\n",
    "print(str.ljust(20,'%'))"
   ]
  },
  {
   "cell_type": "code",
   "execution_count": 59,
   "id": "95ccbf9c-01cc-48a8-9b96-03409e713a4a",
   "metadata": {},
   "outputs": [
    {
     "name": "stdout",
     "output_type": "stream",
     "text": [
      "0066\n"
     ]
    }
   ],
   "source": [
    "# zfill()\n",
    "str=\"66\"\n",
    "print(str.zfill(4))"
   ]
  },
  {
   "cell_type": "code",
   "execution_count": 73,
   "id": "22c82c97-7aeb-4faa-a239-b80a37d28b2f",
   "metadata": {},
   "outputs": [
    {
     "name": "stdout",
     "output_type": "stream",
     "text": [
      "[(0, 'b'), (1, 'i'), (2, 'n'), (3, 'u'), (4, ' '), (5, 's'), (6, 'a'), (7, 'm'), (8, 'm'), (9, 'e'), (10, 't'), (11, 'a')]\n"
     ]
    }
   ],
   "source": [
    "#enumerate \n",
    "str=\"binu sammeta\"\n",
    "print(list(enumerate(str)))"
   ]
  },
  {
   "cell_type": "code",
   "execution_count": 69,
   "id": "1de9acbc-5a06-41d5-a4cd-6f51b35847d8",
   "metadata": {},
   "outputs": [
    {
     "name": "stdout",
     "output_type": "stream",
     "text": [
      "HIMA TOPPER\n"
     ]
    }
   ],
   "source": [
    "str=\"hima topper\"\n",
    "print(str.swapcase())"
   ]
  },
  {
   "cell_type": "code",
   "execution_count": 71,
   "id": "6a83e8f4-cc58-4fd3-91b6-de200189267e",
   "metadata": {},
   "outputs": [
    {
     "name": "stdout",
     "output_type": "stream",
     "text": [
      "Hima a crazy girl\n",
      "Hima A Crazy Girl\n"
     ]
    }
   ],
   "source": [
    "str=\"hima a crazy girl\"\n",
    "print(str.capitalize())\n",
    "print(str.title())\n"
   ]
  },
  {
   "cell_type": "code",
   "execution_count": 75,
   "id": "8510462a-7933-425c-a3bd-9a13f8fe16a7",
   "metadata": {},
   "outputs": [
    {
     "name": "stdout",
     "output_type": "stream",
     "text": [
      "hello\n",
      "hello\n",
      "        hello\n"
     ]
    }
   ],
   "source": [
    "s='        hello'\n",
    "print(s.strip())\n",
    "print(s.lstrip())\n",
    "print(s.rstrip())\n",
    "      "
   ]
  },
  {
   "cell_type": "code",
   "execution_count": null,
   "id": "7492c67c-8948-413f-895b-35129c51afba",
   "metadata": {},
   "outputs": [],
   "source": []
  }
 ],
 "metadata": {
  "kernelspec": {
   "display_name": "Python 3 (ipykernel)",
   "language": "python",
   "name": "python3"
  },
  "language_info": {
   "codemirror_mode": {
    "name": "ipython",
    "version": 3
   },
   "file_extension": ".py",
   "mimetype": "text/x-python",
   "name": "python",
   "nbconvert_exporter": "python",
   "pygments_lexer": "ipython3",
   "version": "3.12.7"
  }
 },
 "nbformat": 4,
 "nbformat_minor": 5
}
